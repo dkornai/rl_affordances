{
 "cells": [
  {
   "cell_type": "code",
   "execution_count": 2,
   "id": "88f3d407",
   "metadata": {},
   "outputs": [],
   "source": [
    "import torch\n",
    "import numpy as np\n",
    "import matplotlib.pyplot as plt"
   ]
  },
  {
   "cell_type": "code",
   "execution_count": 3,
   "id": "984f91ca",
   "metadata": {},
   "outputs": [],
   "source": [
    "import mdpsolver"
   ]
  },
  {
   "cell_type": "code",
   "execution_count": 1,
   "id": "2d700038",
   "metadata": {},
   "outputs": [],
   "source": [
    "from gridworld import GridWorld"
   ]
  },
  {
   "cell_type": "code",
   "execution_count": 26,
   "id": "26438ca1",
   "metadata": {},
   "outputs": [],
   "source": [
    "class MDP():\n",
    "    def __init__(self, TPM, R_S, gamma=0.9):\n",
    "        \n",
    "        assert isinstance(TPM, torch.Tensor), \"TPM must be a torch.Tensor\"\n",
    "        assert TPM.ndim == 3, \"TPM must be a 3D tensor\"\n",
    "        assert TPM.shape[0] == TPM.shape[2], \"TPM must be square\"\n",
    "        assert isinstance(R_S, torch.Tensor), \"R_S must be a torch.Tensor\"\n",
    "        assert R_S.ndim == 1, \"R_S must be a 1D tensor\"\n",
    "        assert R_S.shape[0] == TPM.shape[0], \"Number of states in R_S must match number of states in TPM\"\n",
    "        assert isinstance(gamma, float), \"gamma must be a float\"\n",
    "\n",
    "        self.TPM = TPM\n",
    "        self.n_states = TPM.shape[0]\n",
    "        self.n_actions = TPM.shape[1]\n",
    "        self.R_S = R_S\n",
    "        self.gamma = gamma\n",
    "\n",
    "        self.value = None\n",
    "        self.policy_list = None\n",
    "        self.policy_matrix = None\n",
    "\n",
    "        self.T = None # marginalised transition matrix\n",
    "        self.M = None # successor representation\n",
    "\n",
    "    def get_rewards_stateaction(self) -> list:\n",
    "        \"\"\"\n",
    "        Get a list of of rewards for each action in each state, in preparation for 'MDPSolver'\n",
    "        as we do not distinguish between actions in the reward function, we give the same reward for each action in each state\n",
    "        \"\"\"\n",
    "        rewards = []\n",
    "        for i in range(self.n_states):\n",
    "            state_reward = []\n",
    "            for j in range(self.n_actions):\n",
    "                state_reward.append(self.R_S[i].item())\n",
    "            rewards.append(state_reward)\n",
    "\n",
    "        return rewards\n",
    "    \n",
    "    def get_TPM_sparse(self) -> torch.Tensor:\n",
    "        \"\"\"\n",
    "        Get a sparse TPM in the format of \"MDPSolver\" \n",
    "        \"\"\"\n",
    "        tpm = self.TPM\n",
    "        sparse = []\n",
    "        for i in range(self.n_states):\n",
    "            for j in range(4):\n",
    "                for k in range(self.n_states):\n",
    "                    if tpm[i, j, k] > 0:\n",
    "                        sparse.append((i, j, k, float(tpm[i, j, k].item())))\n",
    "\n",
    "        return sparse \n",
    "\n",
    "    def get_matrix_from_mdpsolver_policy(self, policy_list) -> torch.Tensor:\n",
    "        \"\"\"\n",
    "        Convert the policy from mdpsolver (which is a 1D array of the best action for each state)\n",
    "        to a 2D matrix representation of size [n_states, n_actions]\n",
    "        \"\"\"\n",
    "        policy = np.array(policy_list)\n",
    "        policy_matrix = torch.zeros(policy.shape[0], 4)\n",
    "        for i in range(policy.shape[0]):\n",
    "            policy_matrix[i, int(policy[i])] = 1.0\n",
    "\n",
    "        return policy_matrix\n",
    "\n",
    "    def solve(self):\n",
    "        \"\"\"\n",
    "        Solve the MDP using the mdpsolver library\n",
    "        \"\"\"\n",
    "        # Create a new MDP model instance\n",
    "        mdl = mdpsolver.model()\n",
    "        mdl.mdp(\n",
    "            discount            = self.gamma,\n",
    "            rewards             = self.get_rewards_stateaction(),\n",
    "            tranMatElementwise  = self.get_TPM_sparse(),\n",
    "        )\n",
    "        # Solve the MDP\n",
    "        mdl.solve()\n",
    "\n",
    "        self.policy_list = mdl.getPolicy()\n",
    "        self.policy_matrix = self.get_matrix_from_mdpsolver_policy(self.policy_list)\n",
    "        self.value = mdl.getValueVector()\n",
    "\n",
    "    def get_marginal_T(self):\n",
    "        \"\"\"\n",
    "        Calculate the marginalised transition matrix T(s'|s) given the \n",
    "        optimal policy and the environmental transition probability matrix.\n",
    "        \"\"\"\n",
    "        if self.policy_matrix is None:\n",
    "            self.solve()\n",
    "        \n",
    "        T = torch.zeros((self.n_states, self.n_states), dtype=torch.float32)\n",
    "        # M_{s,s'} = \\sum_{a} \\pi(a|s) T(s'|s,a)\n",
    "        for s in range(self.n_states):\n",
    "            for s_ in range(self.n_states):\n",
    "                T[s, s_] = torch.sum(self.policy_matrix[s] * self.TPM[s, :, s_])\n",
    "\n",
    "        self.T = T\n",
    "    \n",
    "    def get_SR_M(self):\n",
    "        \"\"\"\n",
    "        Calculate the successor representation M(s,s') under the optimal policy\n",
    "        \"\"\"\n",
    "        if self.T is None:\n",
    "            self.get_marginal_T()\n",
    "        \n",
    "        # M(s,s') = (I - \\gamma T)^{-1}\n",
    "        M = torch.linalg.inv(torch.eye(self.n_states) - self.gamma * self.T)\n",
    "\n",
    "        self.M = M\n",
    "\n",
    "    \n",
    "    "
   ]
  },
  {
   "cell_type": "code",
   "execution_count": 48,
   "id": "e7bd2adf",
   "metadata": {},
   "outputs": [
    {
     "name": "stdout",
     "output_type": "stream",
     "text": [
      "x―x―x―x\n",
      "|     |\n",
      "x x x x\n",
      "|     |\n",
      "x x x x\n",
      "|     |\n",
      "x―x―x―x\n",
      "\n",
      "tensor([0., 0., 0., 0., 0., 0., 1., 0., 0.])\n"
     ]
    }
   ],
   "source": [
    "GAMMA = 0.95\n",
    "\n",
    "gridworld = GridWorld(\n",
    "    3, 3, \n",
    "    #wall_horiz=[[0, 1],[1, 2]], \n",
    "    #wall_vert=[[1, 1]], \n",
    "    controllability=[0.5, 0.5], \n",
    "    wind=[0.0, 0.0])\n",
    "\n",
    "print(gridworld.grid)\n",
    "\n",
    "grid_str = f'{gridworld.grid}'\n",
    "\n",
    "TPM = gridworld.get_TPM()\n",
    "rewards = torch.zeros(gridworld.n_states)\n",
    "rewards[-3] = 1.0\n",
    "\n",
    "print(rewards)\n",
    "\n"
   ]
  },
  {
   "cell_type": "code",
   "execution_count": 39,
   "id": "a4c9abf3",
   "metadata": {},
   "outputs": [
    {
     "name": "stdout",
     "output_type": "stream",
     "text": [
      "Successor representation M(s,s'):\n",
      "[[ 1.    0.    0.    0.95  0.    0.   18.05  0.    0.  ]\n",
      " [ 0.95  1.    0.    0.9   0.    0.   17.15  0.    0.  ]\n",
      " [ 0.9   0.95  1.    0.86  0.    0.   16.29  0.    0.  ]\n",
      " [ 0.    0.    0.    1.    0.    0.   19.    0.    0.  ]\n",
      " [ 0.    0.    0.    0.95  1.    0.   18.05  0.    0.  ]\n",
      " [ 0.    0.    0.    0.9   0.95  1.   17.15  0.    0.  ]\n",
      " [ 0.    0.    0.    0.    0.    0.   20.    0.    0.  ]\n",
      " [ 0.    0.    0.    0.    0.    0.   19.    1.    0.  ]\n",
      " [ 0.    0.    0.    0.    0.    0.   18.05  0.95  1.  ]]\n"
     ]
    }
   ],
   "source": [
    "mdp = MDP(TPM, rewards, gamma=GAMMA)\n",
    "mdp.get_SR_M()\n",
    "M = mdp.M\n",
    "print(\"Successor representation M(s,s'):\")\n",
    "print(np.round(M.numpy(), 2))"
   ]
  },
  {
   "cell_type": "code",
   "execution_count": 49,
   "id": "0fd88ace",
   "metadata": {},
   "outputs": [
    {
     "name": "stdout",
     "output_type": "stream",
     "text": [
      "Controllability matrix C(s,s'):\n",
      "[[20.   18.1  16.37 18.1   8.6  14.81 16.37 14.81 13.4 ]\n",
      " [18.1  20.   18.1  16.37  9.5  16.37 14.81 16.37 14.81]\n",
      " [16.37 18.1  20.   14.81  8.6  18.1  13.4  14.81 16.37]\n",
      " [18.1  16.37 14.81 20.    9.5  16.37 18.1  16.37 14.81]\n",
      " [16.37 18.1  16.37 18.1  10.5  18.1  16.37 18.1  16.37]\n",
      " [14.81 16.37 18.1  16.37  9.5  20.   14.81 16.37 18.1 ]\n",
      " [16.37 14.81 13.4  18.1   8.6  14.81 20.   18.1  16.37]\n",
      " [14.81 16.37 14.81 16.37  9.5  16.37 18.1  20.   18.1 ]\n",
      " [13.4  14.81 16.37 14.81  8.6  18.1  16.37 18.1  20.  ]]\n"
     ]
    },
    {
     "data": {
      "image/png": "[encoded data removed]",
      "text/plain": [
       "<Figure size 640x480 with 1 Axes>"
      ]
     },
     "metadata": {},
     "output_type": "display_data"
    },
    {
     "name": "stdout",
     "output_type": "stream",
     "text": [
      "Controllability of states:\n",
      "tensor([140.5567, 144.4314, 140.5567, 144.4314, 148.3685, 144.4314, 140.5567,\n",
      "        144.4314, 140.5567])\n",
      "Controllability of overall system:\n",
      "tensor(1288.3210)\n"
     ]
    }
   ],
   "source": [
    "C = torch.zeros((gridworld.n_states, gridworld.n_states), dtype=torch.float32)\n",
    "for i in range(gridworld.n_states):\n",
    "    rewards = torch.zeros(gridworld.n_states)\n",
    "    rewards[i] = 1.0\n",
    "    mdp = MDP(TPM, rewards, gamma=GAMMA)\n",
    "    mdp.get_SR_M()\n",
    "    M = mdp.M\n",
    "    # print(f\"Successor representation M(s,s') for reward in state {i}:\")\n",
    "    # print(np.round(M.numpy(), 2))\n",
    "    C[:, i] = M[:, i]\n",
    "print(\"Controllability matrix C(s,s'):\")\n",
    "print(np.round(C.numpy(), 2))\n",
    "plt.imshow(C.numpy(), cmap='hot', interpolation='nearest')\n",
    "plt.show()\n",
    "\n",
    "print(\"Controllability of states:\")\n",
    "c_bar = torch.sum(C, dim=1)\n",
    "print(c_bar)\n",
    "\n",
    "print(\"Controllability of overall system:\")\n",
    "c_bar_bar = torch.sum(C)\n",
    "print(c_bar_bar)"
   ]
  }
 ],
 "metadata": {
  "kernelspec": {
   "display_name": "generic312",
   "language": "python",
   "name": "python3"
  },
  "language_info": {
   "codemirror_mode": {
    "name": "ipython",
    "version": 3
   },
   "file_extension": ".py",
   "mimetype": "text/x-python",
   "name": "python",
   "nbconvert_exporter": "python",
   "pygments_lexer": "ipython3",
   "version": "3.12.3"
  }
 },
 "nbformat": 4,
 "nbformat_minor": 5
}
